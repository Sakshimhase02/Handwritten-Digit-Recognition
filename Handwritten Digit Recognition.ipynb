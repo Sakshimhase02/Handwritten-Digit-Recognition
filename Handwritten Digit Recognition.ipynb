{
 "cells": [
  {
   "cell_type": "markdown",
   "id": "a0f596cf",
   "metadata": {},
   "source": [
    "# import libraries"
   ]
  },
  {
   "cell_type": "code",
   "execution_count": 1,
   "id": "38e52529",
   "metadata": {},
   "outputs": [],
   "source": [
    "import numpy as np\n",
    "import pandas as pd"
   ]
  },
  {
   "cell_type": "code",
   "execution_count": 1,
   "id": "e7caa14e",
   "metadata": {},
   "outputs": [],
   "source": [
    "import tensorflow as tf"
   ]
  },
  {
   "cell_type": "code",
   "execution_count": 2,
   "id": "f98eed2b",
   "metadata": {},
   "outputs": [],
   "source": [
    "from tensorflow.keras import datasets"
   ]
  },
  {
   "cell_type": "code",
   "execution_count": 3,
   "id": "9488da4c",
   "metadata": {},
   "outputs": [
    {
     "name": "stdout",
     "output_type": "stream",
     "text": [
      "Downloading data from https://storage.googleapis.com/tensorflow/tf-keras-datasets/mnist.npz\n",
      "\u001b[1m11490434/11490434\u001b[0m \u001b[32m━━━━━━━━━━━━━━━━━━━━\u001b[0m\u001b[37m\u001b[0m \u001b[1m3s\u001b[0m 0us/step\n"
     ]
    }
   ],
   "source": [
    "(x_train , y_train), (x_test , y_test) =datasets.mnist.load_data()"
   ]
  },
  {
   "cell_type": "code",
   "execution_count": 4,
   "id": "afdb715b",
   "metadata": {},
   "outputs": [
    {
     "data": {
      "text/plain": [
       "array([[[0, 0, 0, ..., 0, 0, 0],\n",
       "        [0, 0, 0, ..., 0, 0, 0],\n",
       "        [0, 0, 0, ..., 0, 0, 0],\n",
       "        ...,\n",
       "        [0, 0, 0, ..., 0, 0, 0],\n",
       "        [0, 0, 0, ..., 0, 0, 0],\n",
       "        [0, 0, 0, ..., 0, 0, 0]],\n",
       "\n",
       "       [[0, 0, 0, ..., 0, 0, 0],\n",
       "        [0, 0, 0, ..., 0, 0, 0],\n",
       "        [0, 0, 0, ..., 0, 0, 0],\n",
       "        ...,\n",
       "        [0, 0, 0, ..., 0, 0, 0],\n",
       "        [0, 0, 0, ..., 0, 0, 0],\n",
       "        [0, 0, 0, ..., 0, 0, 0]],\n",
       "\n",
       "       [[0, 0, 0, ..., 0, 0, 0],\n",
       "        [0, 0, 0, ..., 0, 0, 0],\n",
       "        [0, 0, 0, ..., 0, 0, 0],\n",
       "        ...,\n",
       "        [0, 0, 0, ..., 0, 0, 0],\n",
       "        [0, 0, 0, ..., 0, 0, 0],\n",
       "        [0, 0, 0, ..., 0, 0, 0]],\n",
       "\n",
       "       ...,\n",
       "\n",
       "       [[0, 0, 0, ..., 0, 0, 0],\n",
       "        [0, 0, 0, ..., 0, 0, 0],\n",
       "        [0, 0, 0, ..., 0, 0, 0],\n",
       "        ...,\n",
       "        [0, 0, 0, ..., 0, 0, 0],\n",
       "        [0, 0, 0, ..., 0, 0, 0],\n",
       "        [0, 0, 0, ..., 0, 0, 0]],\n",
       "\n",
       "       [[0, 0, 0, ..., 0, 0, 0],\n",
       "        [0, 0, 0, ..., 0, 0, 0],\n",
       "        [0, 0, 0, ..., 0, 0, 0],\n",
       "        ...,\n",
       "        [0, 0, 0, ..., 0, 0, 0],\n",
       "        [0, 0, 0, ..., 0, 0, 0],\n",
       "        [0, 0, 0, ..., 0, 0, 0]],\n",
       "\n",
       "       [[0, 0, 0, ..., 0, 0, 0],\n",
       "        [0, 0, 0, ..., 0, 0, 0],\n",
       "        [0, 0, 0, ..., 0, 0, 0],\n",
       "        ...,\n",
       "        [0, 0, 0, ..., 0, 0, 0],\n",
       "        [0, 0, 0, ..., 0, 0, 0],\n",
       "        [0, 0, 0, ..., 0, 0, 0]]], dtype=uint8)"
      ]
     },
     "execution_count": 4,
     "metadata": {},
     "output_type": "execute_result"
    }
   ],
   "source": [
    "x_train"
   ]
  },
  {
   "cell_type": "code",
   "execution_count": 5,
   "id": "3c49c0fc",
   "metadata": {},
   "outputs": [
    {
     "data": {
      "text/plain": [
       "(60000, 28, 28)"
      ]
     },
     "execution_count": 5,
     "metadata": {},
     "output_type": "execute_result"
    }
   ],
   "source": [
    "x_train.shape        # img , width , height as o/p for train the data"
   ]
  },
  {
   "cell_type": "code",
   "execution_count": 6,
   "id": "457cb0a1",
   "metadata": {},
   "outputs": [
    {
     "data": {
      "text/plain": [
       "(10000, 28, 28)"
      ]
     },
     "execution_count": 6,
     "metadata": {},
     "output_type": "execute_result"
    }
   ],
   "source": [
    "x_test.shape        #  img , width , height as o/p for test the data"
   ]
  },
  {
   "cell_type": "code",
   "execution_count": 7,
   "id": "a69c21f0",
   "metadata": {},
   "outputs": [],
   "source": [
    "width , height = 28 ,28\n",
    "input_shape = (width , height , 1)"
   ]
  },
  {
   "cell_type": "code",
   "execution_count": 8,
   "id": "12cdd0d6",
   "metadata": {},
   "outputs": [
    {
     "data": {
      "text/plain": [
       "(28, 28, 1)"
      ]
     },
     "execution_count": 8,
     "metadata": {},
     "output_type": "execute_result"
    }
   ],
   "source": [
    "input_shape"
   ]
  },
  {
   "cell_type": "code",
   "execution_count": 10,
   "id": "b2991631",
   "metadata": {},
   "outputs": [],
   "source": [
    "x_train = x_train.reshape(x_train.shape[0] , height , width , 1)\n",
    "x_test = x_test.reshape(x_test.shape[0] , height , width , 1)"
   ]
  },
  {
   "cell_type": "code",
   "execution_count": 11,
   "id": "b5df98e5",
   "metadata": {},
   "outputs": [
    {
     "data": {
      "text/plain": [
       "(60000, 28, 28, 1)"
      ]
     },
     "execution_count": 11,
     "metadata": {},
     "output_type": "execute_result"
    }
   ],
   "source": [
    "x_train.shape #visualiza the data "
   ]
  },
  {
   "cell_type": "code",
   "execution_count": 12,
   "id": "1ef8e249",
   "metadata": {},
   "outputs": [
    {
     "data": {
      "text/plain": [
       "(10000, 28, 28, 1)"
      ]
     },
     "execution_count": 12,
     "metadata": {},
     "output_type": "execute_result"
    }
   ],
   "source": [
    "x_test.shape      #data label shape"
   ]
  },
  {
   "cell_type": "markdown",
   "id": "f04d5284",
   "metadata": {},
   "source": [
    "# itteration validation for trainning and testng data "
   ]
  },
  {
   "cell_type": "code",
   "execution_count": 13,
   "id": "6adde9a1",
   "metadata": {},
   "outputs": [],
   "source": [
    "from sklearn.model_selection import train_test_split"
   ]
  },
  {
   "cell_type": "code",
   "execution_count": 14,
   "id": "d9f90286",
   "metadata": {},
   "outputs": [],
   "source": [
    "x_train , x_val , y_train , y_val = train_test_split(x_train , y_train , test_size = 0.1)"
   ]
  },
  {
   "cell_type": "code",
   "execution_count": 15,
   "id": "e61800b9",
   "metadata": {},
   "outputs": [
    {
     "data": {
      "text/plain": [
       "54000"
      ]
     },
     "execution_count": 15,
     "metadata": {},
     "output_type": "execute_result"
    }
   ],
   "source": [
    "len(x_train)"
   ]
  },
  {
   "cell_type": "code",
   "execution_count": 16,
   "id": "13b56b93",
   "metadata": {},
   "outputs": [
    {
     "data": {
      "text/plain": [
       "6000"
      ]
     },
     "execution_count": 16,
     "metadata": {},
     "output_type": "execute_result"
    }
   ],
   "source": [
    "len(x_val)"
   ]
  },
  {
   "cell_type": "markdown",
   "id": "6e83b916",
   "metadata": {},
   "source": [
    "# Normalization the data"
   ]
  },
  {
   "cell_type": "code",
   "execution_count": 17,
   "id": "17ee14c9",
   "metadata": {},
   "outputs": [],
   "source": [
    "x_train = (x_train-x_train.mean())/x_train.std()\n",
    "x_val = (x_val-x_val.mean())/x_val.std()\n",
    "x_test = (x_test-x_test.mean())/x_test.std()"
   ]
  },
  {
   "cell_type": "code",
   "execution_count": 18,
   "id": "fa98fbaa",
   "metadata": {},
   "outputs": [
    {
     "data": {
      "text/plain": [
       "array([[[[-0.42402052],\n",
       "         [-0.42402052],\n",
       "         [-0.42402052],\n",
       "         ...,\n",
       "         [-0.42402052],\n",
       "         [-0.42402052],\n",
       "         [-0.42402052]],\n",
       "\n",
       "        [[-0.42402052],\n",
       "         [-0.42402052],\n",
       "         [-0.42402052],\n",
       "         ...,\n",
       "         [-0.42402052],\n",
       "         [-0.42402052],\n",
       "         [-0.42402052]],\n",
       "\n",
       "        [[-0.42402052],\n",
       "         [-0.42402052],\n",
       "         [-0.42402052],\n",
       "         ...,\n",
       "         [-0.42402052],\n",
       "         [-0.42402052],\n",
       "         [-0.42402052]],\n",
       "\n",
       "        ...,\n",
       "\n",
       "        [[-0.42402052],\n",
       "         [-0.42402052],\n",
       "         [-0.42402052],\n",
       "         ...,\n",
       "         [-0.42402052],\n",
       "         [-0.42402052],\n",
       "         [-0.42402052]],\n",
       "\n",
       "        [[-0.42402052],\n",
       "         [-0.42402052],\n",
       "         [-0.42402052],\n",
       "         ...,\n",
       "         [-0.42402052],\n",
       "         [-0.42402052],\n",
       "         [-0.42402052]],\n",
       "\n",
       "        [[-0.42402052],\n",
       "         [-0.42402052],\n",
       "         [-0.42402052],\n",
       "         ...,\n",
       "         [-0.42402052],\n",
       "         [-0.42402052],\n",
       "         [-0.42402052]]],\n",
       "\n",
       "\n",
       "       [[[-0.42402052],\n",
       "         [-0.42402052],\n",
       "         [-0.42402052],\n",
       "         ...,\n",
       "         [-0.42402052],\n",
       "         [-0.42402052],\n",
       "         [-0.42402052]],\n",
       "\n",
       "        [[-0.42402052],\n",
       "         [-0.42402052],\n",
       "         [-0.42402052],\n",
       "         ...,\n",
       "         [-0.42402052],\n",
       "         [-0.42402052],\n",
       "         [-0.42402052]],\n",
       "\n",
       "        [[-0.42402052],\n",
       "         [-0.42402052],\n",
       "         [-0.42402052],\n",
       "         ...,\n",
       "         [-0.42402052],\n",
       "         [-0.42402052],\n",
       "         [-0.42402052]],\n",
       "\n",
       "        ...,\n",
       "\n",
       "        [[-0.42402052],\n",
       "         [-0.42402052],\n",
       "         [-0.42402052],\n",
       "         ...,\n",
       "         [-0.42402052],\n",
       "         [-0.42402052],\n",
       "         [-0.42402052]],\n",
       "\n",
       "        [[-0.42402052],\n",
       "         [-0.42402052],\n",
       "         [-0.42402052],\n",
       "         ...,\n",
       "         [-0.42402052],\n",
       "         [-0.42402052],\n",
       "         [-0.42402052]],\n",
       "\n",
       "        [[-0.42402052],\n",
       "         [-0.42402052],\n",
       "         [-0.42402052],\n",
       "         ...,\n",
       "         [-0.42402052],\n",
       "         [-0.42402052],\n",
       "         [-0.42402052]]],\n",
       "\n",
       "\n",
       "       [[[-0.42402052],\n",
       "         [-0.42402052],\n",
       "         [-0.42402052],\n",
       "         ...,\n",
       "         [-0.42402052],\n",
       "         [-0.42402052],\n",
       "         [-0.42402052]],\n",
       "\n",
       "        [[-0.42402052],\n",
       "         [-0.42402052],\n",
       "         [-0.42402052],\n",
       "         ...,\n",
       "         [-0.42402052],\n",
       "         [-0.42402052],\n",
       "         [-0.42402052]],\n",
       "\n",
       "        [[-0.42402052],\n",
       "         [-0.42402052],\n",
       "         [-0.42402052],\n",
       "         ...,\n",
       "         [-0.42402052],\n",
       "         [-0.42402052],\n",
       "         [-0.42402052]],\n",
       "\n",
       "        ...,\n",
       "\n",
       "        [[-0.42402052],\n",
       "         [-0.42402052],\n",
       "         [-0.42402052],\n",
       "         ...,\n",
       "         [-0.42402052],\n",
       "         [-0.42402052],\n",
       "         [-0.42402052]],\n",
       "\n",
       "        [[-0.42402052],\n",
       "         [-0.42402052],\n",
       "         [-0.42402052],\n",
       "         ...,\n",
       "         [-0.42402052],\n",
       "         [-0.42402052],\n",
       "         [-0.42402052]],\n",
       "\n",
       "        [[-0.42402052],\n",
       "         [-0.42402052],\n",
       "         [-0.42402052],\n",
       "         ...,\n",
       "         [-0.42402052],\n",
       "         [-0.42402052],\n",
       "         [-0.42402052]]],\n",
       "\n",
       "\n",
       "       ...,\n",
       "\n",
       "\n",
       "       [[[-0.42402052],\n",
       "         [-0.42402052],\n",
       "         [-0.42402052],\n",
       "         ...,\n",
       "         [-0.42402052],\n",
       "         [-0.42402052],\n",
       "         [-0.42402052]],\n",
       "\n",
       "        [[-0.42402052],\n",
       "         [-0.42402052],\n",
       "         [-0.42402052],\n",
       "         ...,\n",
       "         [-0.42402052],\n",
       "         [-0.42402052],\n",
       "         [-0.42402052]],\n",
       "\n",
       "        [[-0.42402052],\n",
       "         [-0.42402052],\n",
       "         [-0.42402052],\n",
       "         ...,\n",
       "         [-0.42402052],\n",
       "         [-0.42402052],\n",
       "         [-0.42402052]],\n",
       "\n",
       "        ...,\n",
       "\n",
       "        [[-0.42402052],\n",
       "         [-0.42402052],\n",
       "         [-0.42402052],\n",
       "         ...,\n",
       "         [-0.42402052],\n",
       "         [-0.42402052],\n",
       "         [-0.42402052]],\n",
       "\n",
       "        [[-0.42402052],\n",
       "         [-0.42402052],\n",
       "         [-0.42402052],\n",
       "         ...,\n",
       "         [-0.42402052],\n",
       "         [-0.42402052],\n",
       "         [-0.42402052]],\n",
       "\n",
       "        [[-0.42402052],\n",
       "         [-0.42402052],\n",
       "         [-0.42402052],\n",
       "         ...,\n",
       "         [-0.42402052],\n",
       "         [-0.42402052],\n",
       "         [-0.42402052]]],\n",
       "\n",
       "\n",
       "       [[[-0.42402052],\n",
       "         [-0.42402052],\n",
       "         [-0.42402052],\n",
       "         ...,\n",
       "         [-0.42402052],\n",
       "         [-0.42402052],\n",
       "         [-0.42402052]],\n",
       "\n",
       "        [[-0.42402052],\n",
       "         [-0.42402052],\n",
       "         [-0.42402052],\n",
       "         ...,\n",
       "         [-0.42402052],\n",
       "         [-0.42402052],\n",
       "         [-0.42402052]],\n",
       "\n",
       "        [[-0.42402052],\n",
       "         [-0.42402052],\n",
       "         [-0.42402052],\n",
       "         ...,\n",
       "         [-0.42402052],\n",
       "         [-0.42402052],\n",
       "         [-0.42402052]],\n",
       "\n",
       "        ...,\n",
       "\n",
       "        [[-0.42402052],\n",
       "         [-0.42402052],\n",
       "         [-0.42402052],\n",
       "         ...,\n",
       "         [-0.42402052],\n",
       "         [-0.42402052],\n",
       "         [-0.42402052]],\n",
       "\n",
       "        [[-0.42402052],\n",
       "         [-0.42402052],\n",
       "         [-0.42402052],\n",
       "         ...,\n",
       "         [-0.42402052],\n",
       "         [-0.42402052],\n",
       "         [-0.42402052]],\n",
       "\n",
       "        [[-0.42402052],\n",
       "         [-0.42402052],\n",
       "         [-0.42402052],\n",
       "         ...,\n",
       "         [-0.42402052],\n",
       "         [-0.42402052],\n",
       "         [-0.42402052]]],\n",
       "\n",
       "\n",
       "       [[[-0.42402052],\n",
       "         [-0.42402052],\n",
       "         [-0.42402052],\n",
       "         ...,\n",
       "         [-0.42402052],\n",
       "         [-0.42402052],\n",
       "         [-0.42402052]],\n",
       "\n",
       "        [[-0.42402052],\n",
       "         [-0.42402052],\n",
       "         [-0.42402052],\n",
       "         ...,\n",
       "         [-0.42402052],\n",
       "         [-0.42402052],\n",
       "         [-0.42402052]],\n",
       "\n",
       "        [[-0.42402052],\n",
       "         [-0.42402052],\n",
       "         [-0.42402052],\n",
       "         ...,\n",
       "         [-0.42402052],\n",
       "         [-0.42402052],\n",
       "         [-0.42402052]],\n",
       "\n",
       "        ...,\n",
       "\n",
       "        [[-0.42402052],\n",
       "         [-0.42402052],\n",
       "         [-0.42402052],\n",
       "         ...,\n",
       "         [-0.42402052],\n",
       "         [-0.42402052],\n",
       "         [-0.42402052]],\n",
       "\n",
       "        [[-0.42402052],\n",
       "         [-0.42402052],\n",
       "         [-0.42402052],\n",
       "         ...,\n",
       "         [-0.42402052],\n",
       "         [-0.42402052],\n",
       "         [-0.42402052]],\n",
       "\n",
       "        [[-0.42402052],\n",
       "         [-0.42402052],\n",
       "         [-0.42402052],\n",
       "         ...,\n",
       "         [-0.42402052],\n",
       "         [-0.42402052],\n",
       "         [-0.42402052]]]])"
      ]
     },
     "execution_count": 18,
     "metadata": {},
     "output_type": "execute_result"
    }
   ],
   "source": [
    "x_train"
   ]
  },
  {
   "cell_type": "code",
   "execution_count": 19,
   "id": "6b2061f5",
   "metadata": {},
   "outputs": [
    {
     "data": {
      "text/plain": [
       "array([0, 9, 7, ..., 0, 2, 1], dtype=uint8)"
      ]
     },
     "execution_count": 19,
     "metadata": {},
     "output_type": "execute_result"
    }
   ],
   "source": [
    "y_train"
   ]
  },
  {
   "cell_type": "markdown",
   "id": "0e6ae83a",
   "metadata": {},
   "source": [
    "# convert into categorical data"
   ]
  },
  {
   "cell_type": "code",
   "execution_count": 20,
   "id": "1a1e75eb",
   "metadata": {},
   "outputs": [],
   "source": [
    "from tensorflow import keras"
   ]
  },
  {
   "cell_type": "code",
   "execution_count": 21,
   "id": "2041cabc",
   "metadata": {},
   "outputs": [],
   "source": [
    "num_label = 10\n",
    "\n",
    "y_train = keras.utils.to_categorical(y_train)"
   ]
  },
  {
   "cell_type": "code",
   "execution_count": 22,
   "id": "00009bac",
   "metadata": {},
   "outputs": [
    {
     "data": {
      "text/plain": [
       "array([[1., 0., 0., ..., 0., 0., 0.],\n",
       "       [0., 0., 0., ..., 0., 0., 1.],\n",
       "       [0., 0., 0., ..., 1., 0., 0.],\n",
       "       ...,\n",
       "       [1., 0., 0., ..., 0., 0., 0.],\n",
       "       [0., 0., 1., ..., 0., 0., 0.],\n",
       "       [0., 1., 0., ..., 0., 0., 0.]])"
      ]
     },
     "execution_count": 22,
     "metadata": {},
     "output_type": "execute_result"
    }
   ],
   "source": [
    "y_train"
   ]
  },
  {
   "cell_type": "code",
   "execution_count": 23,
   "id": "bb2ee41f",
   "metadata": {},
   "outputs": [],
   "source": [
    "y_val = keras.utils.to_categorical(y_val)\n",
    "y_test = keras.utils.to_categorical(y_test)"
   ]
  },
  {
   "cell_type": "markdown",
   "id": "3253ef79",
   "metadata": {},
   "source": [
    "# model"
   ]
  },
  {
   "cell_type": "code",
   "execution_count": 25,
   "id": "02ea520b",
   "metadata": {},
   "outputs": [],
   "source": [
    "from tensorflow.keras.models import Sequential"
   ]
  },
  {
   "cell_type": "code",
   "execution_count": 26,
   "id": "f145d337",
   "metadata": {},
   "outputs": [],
   "source": [
    "from tensorflow.keras.layers import Dense , Dropout , Flatten,Input, Conv2D , MaxPooling2D , AveragePooling2D"
   ]
  },
  {
   "cell_type": "code",
   "execution_count": 27,
   "id": "3f72a7cd",
   "metadata": {},
   "outputs": [],
   "source": [
    "model = Sequential()"
   ]
  },
  {
   "cell_type": "markdown",
   "id": "4e641573",
   "metadata": {},
   "source": [
    "# 1..feature mapping (using lenet5 architecture)"
   ]
  },
  {
   "cell_type": "code",
   "execution_count": 29,
   "id": "2aecfd38",
   "metadata": {},
   "outputs": [
    {
     "name": "stderr",
     "output_type": "stream",
     "text": [
      "C:\\Users\\HP\\anaconda3\\lib\\site-packages\\keras\\src\\layers\\convolutional\\base_conv.py:107: UserWarning: Do not pass an `input_shape`/`input_dim` argument to a layer. When using Sequential models, prefer using an `Input(shape)` object as the first layer in the model instead.\n",
      "  super().__init__(activity_regularizer=activity_regularizer, **kwargs)\n"
     ]
    }
   ],
   "source": [
    "model.add(Conv2D(6 , kernel_size =(5 ,5), strides = (1 ,1),activation = 'tanh' , input_shape = (28, 28, 1)))\n",
    "model.add(AveragePooling2D(pool_size = (2 ,2) , strides = (1, 1)))\n",
    "model.add(Conv2D(16 , kernel_size =(5 ,5), strides = (1 ,1),activation = 'tanh'))\n",
    "model.add(AveragePooling2D(pool_size = (2 ,2) , strides = (2, 2)))\n",
    "model.add(Conv2D(120 , kernel_size =(5 ,5), strides = (1 ,1),activation = 'tanh'))\n",
    "\n",
    "model.add(Flatten())\n",
    "model.add(Dense(84 , activation = 'tanh'))\n",
    "model.add(Dense(num_label, activation = 'softmax'))"
   ]
  },
  {
   "cell_type": "markdown",
   "id": "f0dab030",
   "metadata": {},
   "source": [
    "# 2...compile the model"
   ]
  },
  {
   "cell_type": "code",
   "execution_count": 30,
   "id": "96d5779d",
   "metadata": {},
   "outputs": [
    {
     "data": {
      "text/html": [
       "<pre style=\"white-space:pre;overflow-x:auto;line-height:normal;font-family:Menlo,'DejaVu Sans Mono',consolas,'Courier New',monospace\"><span style=\"font-weight: bold\">Model: \"sequential\"</span>\n",
       "</pre>\n"
      ],
      "text/plain": [
       "\u001b[1mModel: \"sequential\"\u001b[0m\n"
      ]
     },
     "metadata": {},
     "output_type": "display_data"
    },
    {
     "data": {
      "text/html": [
       "<pre style=\"white-space:pre;overflow-x:auto;line-height:normal;font-family:Menlo,'DejaVu Sans Mono',consolas,'Courier New',monospace\">┏━━━━━━━━━━━━━━━━━━━━━━━━━━━━━━━━━━━━━━┳━━━━━━━━━━━━━━━━━━━━━━━━━━━━━┳━━━━━━━━━━━━━━━━━┓\n",
       "┃<span style=\"font-weight: bold\"> Layer (type)                         </span>┃<span style=\"font-weight: bold\"> Output Shape                </span>┃<span style=\"font-weight: bold\">         Param # </span>┃\n",
       "┡━━━━━━━━━━━━━━━━━━━━━━━━━━━━━━━━━━━━━━╇━━━━━━━━━━━━━━━━━━━━━━━━━━━━━╇━━━━━━━━━━━━━━━━━┩\n",
       "│ conv2d (<span style=\"color: #0087ff; text-decoration-color: #0087ff\">Conv2D</span>)                      │ (<span style=\"color: #00d7ff; text-decoration-color: #00d7ff\">None</span>, <span style=\"color: #00af00; text-decoration-color: #00af00\">24</span>, <span style=\"color: #00af00; text-decoration-color: #00af00\">24</span>, <span style=\"color: #00af00; text-decoration-color: #00af00\">6</span>)           │             <span style=\"color: #00af00; text-decoration-color: #00af00\">156</span> │\n",
       "├──────────────────────────────────────┼─────────────────────────────┼─────────────────┤\n",
       "│ average_pooling2d (<span style=\"color: #0087ff; text-decoration-color: #0087ff\">AveragePooling2D</span>) │ (<span style=\"color: #00d7ff; text-decoration-color: #00d7ff\">None</span>, <span style=\"color: #00af00; text-decoration-color: #00af00\">23</span>, <span style=\"color: #00af00; text-decoration-color: #00af00\">23</span>, <span style=\"color: #00af00; text-decoration-color: #00af00\">6</span>)           │               <span style=\"color: #00af00; text-decoration-color: #00af00\">0</span> │\n",
       "├──────────────────────────────────────┼─────────────────────────────┼─────────────────┤\n",
       "│ conv2d_1 (<span style=\"color: #0087ff; text-decoration-color: #0087ff\">Conv2D</span>)                    │ (<span style=\"color: #00d7ff; text-decoration-color: #00d7ff\">None</span>, <span style=\"color: #00af00; text-decoration-color: #00af00\">19</span>, <span style=\"color: #00af00; text-decoration-color: #00af00\">19</span>, <span style=\"color: #00af00; text-decoration-color: #00af00\">16</span>)          │           <span style=\"color: #00af00; text-decoration-color: #00af00\">2,416</span> │\n",
       "├──────────────────────────────────────┼─────────────────────────────┼─────────────────┤\n",
       "│ average_pooling2d_1                  │ (<span style=\"color: #00d7ff; text-decoration-color: #00d7ff\">None</span>, <span style=\"color: #00af00; text-decoration-color: #00af00\">9</span>, <span style=\"color: #00af00; text-decoration-color: #00af00\">9</span>, <span style=\"color: #00af00; text-decoration-color: #00af00\">16</span>)            │               <span style=\"color: #00af00; text-decoration-color: #00af00\">0</span> │\n",
       "│ (<span style=\"color: #0087ff; text-decoration-color: #0087ff\">AveragePooling2D</span>)                   │                             │                 │\n",
       "├──────────────────────────────────────┼─────────────────────────────┼─────────────────┤\n",
       "│ conv2d_2 (<span style=\"color: #0087ff; text-decoration-color: #0087ff\">Conv2D</span>)                    │ (<span style=\"color: #00d7ff; text-decoration-color: #00d7ff\">None</span>, <span style=\"color: #00af00; text-decoration-color: #00af00\">5</span>, <span style=\"color: #00af00; text-decoration-color: #00af00\">5</span>, <span style=\"color: #00af00; text-decoration-color: #00af00\">120</span>)           │          <span style=\"color: #00af00; text-decoration-color: #00af00\">48,120</span> │\n",
       "├──────────────────────────────────────┼─────────────────────────────┼─────────────────┤\n",
       "│ flatten (<span style=\"color: #0087ff; text-decoration-color: #0087ff\">Flatten</span>)                    │ (<span style=\"color: #00d7ff; text-decoration-color: #00d7ff\">None</span>, <span style=\"color: #00af00; text-decoration-color: #00af00\">3000</span>)                │               <span style=\"color: #00af00; text-decoration-color: #00af00\">0</span> │\n",
       "├──────────────────────────────────────┼─────────────────────────────┼─────────────────┤\n",
       "│ dense (<span style=\"color: #0087ff; text-decoration-color: #0087ff\">Dense</span>)                        │ (<span style=\"color: #00d7ff; text-decoration-color: #00d7ff\">None</span>, <span style=\"color: #00af00; text-decoration-color: #00af00\">84</span>)                  │         <span style=\"color: #00af00; text-decoration-color: #00af00\">252,084</span> │\n",
       "├──────────────────────────────────────┼─────────────────────────────┼─────────────────┤\n",
       "│ dense_1 (<span style=\"color: #0087ff; text-decoration-color: #0087ff\">Dense</span>)                      │ (<span style=\"color: #00d7ff; text-decoration-color: #00d7ff\">None</span>, <span style=\"color: #00af00; text-decoration-color: #00af00\">10</span>)                  │             <span style=\"color: #00af00; text-decoration-color: #00af00\">850</span> │\n",
       "└──────────────────────────────────────┴─────────────────────────────┴─────────────────┘\n",
       "</pre>\n"
      ],
      "text/plain": [
       "┏━━━━━━━━━━━━━━━━━━━━━━━━━━━━━━━━━━━━━━┳━━━━━━━━━━━━━━━━━━━━━━━━━━━━━┳━━━━━━━━━━━━━━━━━┓\n",
       "┃\u001b[1m \u001b[0m\u001b[1mLayer (type)                        \u001b[0m\u001b[1m \u001b[0m┃\u001b[1m \u001b[0m\u001b[1mOutput Shape               \u001b[0m\u001b[1m \u001b[0m┃\u001b[1m \u001b[0m\u001b[1m        Param #\u001b[0m\u001b[1m \u001b[0m┃\n",
       "┡━━━━━━━━━━━━━━━━━━━━━━━━━━━━━━━━━━━━━━╇━━━━━━━━━━━━━━━━━━━━━━━━━━━━━╇━━━━━━━━━━━━━━━━━┩\n",
       "│ conv2d (\u001b[38;5;33mConv2D\u001b[0m)                      │ (\u001b[38;5;45mNone\u001b[0m, \u001b[38;5;34m24\u001b[0m, \u001b[38;5;34m24\u001b[0m, \u001b[38;5;34m6\u001b[0m)           │             \u001b[38;5;34m156\u001b[0m │\n",
       "├──────────────────────────────────────┼─────────────────────────────┼─────────────────┤\n",
       "│ average_pooling2d (\u001b[38;5;33mAveragePooling2D\u001b[0m) │ (\u001b[38;5;45mNone\u001b[0m, \u001b[38;5;34m23\u001b[0m, \u001b[38;5;34m23\u001b[0m, \u001b[38;5;34m6\u001b[0m)           │               \u001b[38;5;34m0\u001b[0m │\n",
       "├──────────────────────────────────────┼─────────────────────────────┼─────────────────┤\n",
       "│ conv2d_1 (\u001b[38;5;33mConv2D\u001b[0m)                    │ (\u001b[38;5;45mNone\u001b[0m, \u001b[38;5;34m19\u001b[0m, \u001b[38;5;34m19\u001b[0m, \u001b[38;5;34m16\u001b[0m)          │           \u001b[38;5;34m2,416\u001b[0m │\n",
       "├──────────────────────────────────────┼─────────────────────────────┼─────────────────┤\n",
       "│ average_pooling2d_1                  │ (\u001b[38;5;45mNone\u001b[0m, \u001b[38;5;34m9\u001b[0m, \u001b[38;5;34m9\u001b[0m, \u001b[38;5;34m16\u001b[0m)            │               \u001b[38;5;34m0\u001b[0m │\n",
       "│ (\u001b[38;5;33mAveragePooling2D\u001b[0m)                   │                             │                 │\n",
       "├──────────────────────────────────────┼─────────────────────────────┼─────────────────┤\n",
       "│ conv2d_2 (\u001b[38;5;33mConv2D\u001b[0m)                    │ (\u001b[38;5;45mNone\u001b[0m, \u001b[38;5;34m5\u001b[0m, \u001b[38;5;34m5\u001b[0m, \u001b[38;5;34m120\u001b[0m)           │          \u001b[38;5;34m48,120\u001b[0m │\n",
       "├──────────────────────────────────────┼─────────────────────────────┼─────────────────┤\n",
       "│ flatten (\u001b[38;5;33mFlatten\u001b[0m)                    │ (\u001b[38;5;45mNone\u001b[0m, \u001b[38;5;34m3000\u001b[0m)                │               \u001b[38;5;34m0\u001b[0m │\n",
       "├──────────────────────────────────────┼─────────────────────────────┼─────────────────┤\n",
       "│ dense (\u001b[38;5;33mDense\u001b[0m)                        │ (\u001b[38;5;45mNone\u001b[0m, \u001b[38;5;34m84\u001b[0m)                  │         \u001b[38;5;34m252,084\u001b[0m │\n",
       "├──────────────────────────────────────┼─────────────────────────────┼─────────────────┤\n",
       "│ dense_1 (\u001b[38;5;33mDense\u001b[0m)                      │ (\u001b[38;5;45mNone\u001b[0m, \u001b[38;5;34m10\u001b[0m)                  │             \u001b[38;5;34m850\u001b[0m │\n",
       "└──────────────────────────────────────┴─────────────────────────────┴─────────────────┘\n"
      ]
     },
     "metadata": {},
     "output_type": "display_data"
    },
    {
     "data": {
      "text/html": [
       "<pre style=\"white-space:pre;overflow-x:auto;line-height:normal;font-family:Menlo,'DejaVu Sans Mono',consolas,'Courier New',monospace\"><span style=\"font-weight: bold\"> Total params: </span><span style=\"color: #00af00; text-decoration-color: #00af00\">303,626</span> (1.16 MB)\n",
       "</pre>\n"
      ],
      "text/plain": [
       "\u001b[1m Total params: \u001b[0m\u001b[38;5;34m303,626\u001b[0m (1.16 MB)\n"
      ]
     },
     "metadata": {},
     "output_type": "display_data"
    },
    {
     "data": {
      "text/html": [
       "<pre style=\"white-space:pre;overflow-x:auto;line-height:normal;font-family:Menlo,'DejaVu Sans Mono',consolas,'Courier New',monospace\"><span style=\"font-weight: bold\"> Trainable params: </span><span style=\"color: #00af00; text-decoration-color: #00af00\">303,626</span> (1.16 MB)\n",
       "</pre>\n"
      ],
      "text/plain": [
       "\u001b[1m Trainable params: \u001b[0m\u001b[38;5;34m303,626\u001b[0m (1.16 MB)\n"
      ]
     },
     "metadata": {},
     "output_type": "display_data"
    },
    {
     "data": {
      "text/html": [
       "<pre style=\"white-space:pre;overflow-x:auto;line-height:normal;font-family:Menlo,'DejaVu Sans Mono',consolas,'Courier New',monospace\"><span style=\"font-weight: bold\"> Non-trainable params: </span><span style=\"color: #00af00; text-decoration-color: #00af00\">0</span> (0.00 B)\n",
       "</pre>\n"
      ],
      "text/plain": [
       "\u001b[1m Non-trainable params: \u001b[0m\u001b[38;5;34m0\u001b[0m (0.00 B)\n"
      ]
     },
     "metadata": {},
     "output_type": "display_data"
    }
   ],
   "source": [
    "model.summary()"
   ]
  },
  {
   "cell_type": "markdown",
   "id": "c8437daf",
   "metadata": {},
   "source": [
    "# 3....compile our architecture"
   ]
  },
  {
   "cell_type": "code",
   "execution_count": 31,
   "id": "13cae2f4",
   "metadata": {},
   "outputs": [],
   "source": [
    "model.compile(loss = keras.losses.categorical_crossentropy,optimizer = 'adam',metrics =['accuracy'])"
   ]
  },
  {
   "cell_type": "markdown",
   "id": "5b69b234",
   "metadata": {},
   "source": [
    "# 4...train our model"
   ]
  },
  {
   "cell_type": "code",
   "execution_count": 33,
   "id": "ec548e34",
   "metadata": {},
   "outputs": [
    {
     "name": "stdout",
     "output_type": "stream",
     "text": [
      "Epoch 1/20\n",
      "\u001b[1m1688/1688\u001b[0m \u001b[32m━━━━━━━━━━━━━━━━━━━━\u001b[0m\u001b[37m\u001b[0m \u001b[1m29s\u001b[0m 15ms/step - accuracy: 0.9022 - loss: 0.3228 - val_accuracy: 0.9623 - val_loss: 0.1315\n",
      "Epoch 2/20\n",
      "\u001b[1m1688/1688\u001b[0m \u001b[32m━━━━━━━━━━━━━━━━━━━━\u001b[0m\u001b[37m\u001b[0m \u001b[1m25s\u001b[0m 15ms/step - accuracy: 0.9692 - loss: 0.1022 - val_accuracy: 0.9725 - val_loss: 0.0887\n",
      "Epoch 3/20\n",
      "\u001b[1m1688/1688\u001b[0m \u001b[32m━━━━━━━━━━━━━━━━━━━━\u001b[0m\u001b[37m\u001b[0m \u001b[1m24s\u001b[0m 14ms/step - accuracy: 0.9747 - loss: 0.0806 - val_accuracy: 0.9765 - val_loss: 0.0743\n",
      "Epoch 4/20\n",
      "\u001b[1m1688/1688\u001b[0m \u001b[32m━━━━━━━━━━━━━━━━━━━━\u001b[0m\u001b[37m\u001b[0m \u001b[1m24s\u001b[0m 14ms/step - accuracy: 0.9791 - loss: 0.0709 - val_accuracy: 0.9762 - val_loss: 0.0762\n",
      "Epoch 5/20\n",
      "\u001b[1m1688/1688\u001b[0m \u001b[32m━━━━━━━━━━━━━━━━━━━━\u001b[0m\u001b[37m\u001b[0m \u001b[1m24s\u001b[0m 14ms/step - accuracy: 0.9816 - loss: 0.0593 - val_accuracy: 0.9808 - val_loss: 0.0613\n",
      "Epoch 6/20\n",
      "\u001b[1m1688/1688\u001b[0m \u001b[32m━━━━━━━━━━━━━━━━━━━━\u001b[0m\u001b[37m\u001b[0m \u001b[1m24s\u001b[0m 14ms/step - accuracy: 0.9825 - loss: 0.0576 - val_accuracy: 0.9787 - val_loss: 0.0730\n",
      "Epoch 7/20\n",
      "\u001b[1m1688/1688\u001b[0m \u001b[32m━━━━━━━━━━━━━━━━━━━━\u001b[0m\u001b[37m\u001b[0m \u001b[1m24s\u001b[0m 14ms/step - accuracy: 0.9812 - loss: 0.0599 - val_accuracy: 0.9835 - val_loss: 0.0571\n",
      "Epoch 8/20\n",
      "\u001b[1m1688/1688\u001b[0m \u001b[32m━━━━━━━━━━━━━━━━━━━━\u001b[0m\u001b[37m\u001b[0m \u001b[1m24s\u001b[0m 14ms/step - accuracy: 0.9843 - loss: 0.0509 - val_accuracy: 0.9848 - val_loss: 0.0555\n",
      "Epoch 9/20\n",
      "\u001b[1m1688/1688\u001b[0m \u001b[32m━━━━━━━━━━━━━━━━━━━━\u001b[0m\u001b[37m\u001b[0m \u001b[1m24s\u001b[0m 14ms/step - accuracy: 0.9847 - loss: 0.0488 - val_accuracy: 0.9818 - val_loss: 0.0582\n",
      "Epoch 10/20\n",
      "\u001b[1m1688/1688\u001b[0m \u001b[32m━━━━━━━━━━━━━━━━━━━━\u001b[0m\u001b[37m\u001b[0m \u001b[1m24s\u001b[0m 14ms/step - accuracy: 0.9863 - loss: 0.0444 - val_accuracy: 0.9818 - val_loss: 0.0562\n",
      "Epoch 11/20\n",
      "\u001b[1m1688/1688\u001b[0m \u001b[32m━━━━━━━━━━━━━━━━━━━━\u001b[0m\u001b[37m\u001b[0m \u001b[1m24s\u001b[0m 14ms/step - accuracy: 0.9855 - loss: 0.0478 - val_accuracy: 0.9822 - val_loss: 0.0577\n",
      "Epoch 12/20\n",
      "\u001b[1m1688/1688\u001b[0m \u001b[32m━━━━━━━━━━━━━━━━━━━━\u001b[0m\u001b[37m\u001b[0m \u001b[1m24s\u001b[0m 14ms/step - accuracy: 0.9855 - loss: 0.0459 - val_accuracy: 0.9825 - val_loss: 0.0626\n",
      "Epoch 13/20\n",
      "\u001b[1m1688/1688\u001b[0m \u001b[32m━━━━━━━━━━━━━━━━━━━━\u001b[0m\u001b[37m\u001b[0m \u001b[1m24s\u001b[0m 14ms/step - accuracy: 0.9863 - loss: 0.0447 - val_accuracy: 0.9833 - val_loss: 0.0582\n",
      "Epoch 14/20\n",
      "\u001b[1m1688/1688\u001b[0m \u001b[32m━━━━━━━━━━━━━━━━━━━━\u001b[0m\u001b[37m\u001b[0m \u001b[1m24s\u001b[0m 14ms/step - accuracy: 0.9868 - loss: 0.0408 - val_accuracy: 0.9825 - val_loss: 0.0585\n",
      "Epoch 15/20\n",
      "\u001b[1m1688/1688\u001b[0m \u001b[32m━━━━━━━━━━━━━━━━━━━━\u001b[0m\u001b[37m\u001b[0m \u001b[1m24s\u001b[0m 14ms/step - accuracy: 0.9845 - loss: 0.0468 - val_accuracy: 0.9845 - val_loss: 0.0555\n",
      "Epoch 16/20\n",
      "\u001b[1m1688/1688\u001b[0m \u001b[32m━━━━━━━━━━━━━━━━━━━━\u001b[0m\u001b[37m\u001b[0m \u001b[1m24s\u001b[0m 14ms/step - accuracy: 0.9864 - loss: 0.0422 - val_accuracy: 0.9863 - val_loss: 0.0507\n",
      "Epoch 17/20\n",
      "\u001b[1m1688/1688\u001b[0m \u001b[32m━━━━━━━━━━━━━━━━━━━━\u001b[0m\u001b[37m\u001b[0m \u001b[1m24s\u001b[0m 14ms/step - accuracy: 0.9875 - loss: 0.0391 - val_accuracy: 0.9858 - val_loss: 0.0466\n",
      "Epoch 18/20\n",
      "\u001b[1m1688/1688\u001b[0m \u001b[32m━━━━━━━━━━━━━━━━━━━━\u001b[0m\u001b[37m\u001b[0m \u001b[1m24s\u001b[0m 14ms/step - accuracy: 0.9879 - loss: 0.0383 - val_accuracy: 0.9858 - val_loss: 0.0485\n",
      "Epoch 19/20\n",
      "\u001b[1m1688/1688\u001b[0m \u001b[32m━━━━━━━━━━━━━━━━━━━━\u001b[0m\u001b[37m\u001b[0m \u001b[1m24s\u001b[0m 14ms/step - accuracy: 0.9874 - loss: 0.0382 - val_accuracy: 0.9853 - val_loss: 0.0513\n",
      "Epoch 20/20\n",
      "\u001b[1m1688/1688\u001b[0m \u001b[32m━━━━━━━━━━━━━━━━━━━━\u001b[0m\u001b[37m\u001b[0m \u001b[1m24s\u001b[0m 14ms/step - accuracy: 0.9865 - loss: 0.0409 - val_accuracy: 0.9835 - val_loss: 0.0566\n"
     ]
    }
   ],
   "source": [
    "history = model.fit(x_train , y_train ,batch_size = 32 , epochs = 20 ,verbose =1 ,validation_data =(x_val , y_val))"
   ]
  },
  {
   "cell_type": "markdown",
   "id": "99ab6288",
   "metadata": {},
   "source": [
    "# final tetsing our model "
   ]
  },
  {
   "cell_type": "code",
   "execution_count": 34,
   "id": "4ea5511a",
   "metadata": {},
   "outputs": [
    {
     "name": "stdout",
     "output_type": "stream",
     "text": [
      "\u001b[1m313/313\u001b[0m \u001b[32m━━━━━━━━━━━━━━━━━━━━\u001b[0m\u001b[37m\u001b[0m \u001b[1m2s\u001b[0m 6ms/step - accuracy: 0.9770 - loss: 0.0681\n"
     ]
    }
   ],
   "source": [
    "score = model.evaluate(x_test , y_test , verbose =1)"
   ]
  },
  {
   "cell_type": "code",
   "execution_count": 35,
   "id": "6442e46e",
   "metadata": {},
   "outputs": [
    {
     "data": {
      "text/plain": [
       "[0.0570196658372879, 0.9815999865531921]"
      ]
     },
     "execution_count": 35,
     "metadata": {},
     "output_type": "execute_result"
    }
   ],
   "source": [
    "score"
   ]
  },
  {
   "cell_type": "code",
   "execution_count": null,
   "id": "4ad86466",
   "metadata": {},
   "outputs": [],
   "source": []
  }
 ],
 "metadata": {
  "kernelspec": {
   "display_name": "Python 3 (ipykernel)",
   "language": "python",
   "name": "python3"
  },
  "language_info": {
   "codemirror_mode": {
    "name": "ipython",
    "version": 3
   },
   "file_extension": ".py",
   "mimetype": "text/x-python",
   "name": "python",
   "nbconvert_exporter": "python",
   "pygments_lexer": "ipython3",
   "version": "3.10.9"
  }
 },
 "nbformat": 4,
 "nbformat_minor": 5
}
